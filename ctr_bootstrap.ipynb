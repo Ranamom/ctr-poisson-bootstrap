{
  "cells": [
    {
      "cell_type": "markdown",
      "metadata": {
        "id": "gTSEZPjjVEEc"
      },
      "source": [
        "# CTR bootstrap"
      ]
    },
    {
      "cell_type": "markdown",
      "metadata": {
        "id": "vSz8i_vqVEEi"
      },
      "source": [
        "Цель: провести A/B тест по метрике CTR (click-through rate) для двух рекламных объявлений с целью определения различий в их эффективности."
      ]
    },
    {
      "cell_type": "markdown",
      "metadata": {
        "id": "giE83gRLVEEk"
      },
      "source": [
        "## EDA"
      ]
    },
    {
      "cell_type": "code",
      "execution_count": 69,
      "metadata": {
        "id": "d0B4eAjUVEEl"
      },
      "outputs": [],
      "source": [
        "import pandas as pd\n",
        "import datetime as dt\n",
        "\n",
        "import numpy as np\n",
        "import timeit\n",
        "# from statsmodels.stats.gof import chisquare_effectsize\n",
        "# from statsmodels.stats.power import GofChisquarePower\n",
        "# from statsmodels.stats.proportion import proportions_chisquare\n",
        "from sklearn.utils import resample\n",
        "\n",
        "from numba import njit\n",
        "\n",
        "import matplotlib.pyplot as plt\n",
        "import seaborn as sns\n",
        "%matplotlib inline"
      ]
    },
    {
      "cell_type": "code",
      "execution_count": 44,
      "metadata": {
        "colab": {
          "base_uri": "https://localhost:8080/"
        },
        "id": "9xqFOHv-V4Oc",
        "outputId": "24597d4c-ae5b-421a-9114-194662ac1d98"
      },
      "outputs": [
        {
          "name": "stdout",
          "output_type": "stream",
          "text": [
            "Drive already mounted at /content/drive; to attempt to forcibly remount, call drive.mount(\"/content/drive\", force_remount=True).\n"
          ]
        }
      ],
      "source": [
        "from google.colab import drive\n",
        "drive.mount('/content/drive')"
      ]
    },
    {
      "cell_type": "markdown",
      "metadata": {
        "id": "gBD4VUhoVEEo"
      },
      "source": [
        "##### Данные по кликам на рекламные объявления"
      ]
    },
    {
      "cell_type": "code",
      "execution_count": 45,
      "metadata": {
        "colab": {
          "base_uri": "https://localhost:8080/"
        },
        "id": "XFEk59ZkVEEq",
        "outputId": "cc79210a-6729-4866-f92d-52a03f9279ee"
      },
      "outputs": [
        {
          "name": "stdout",
          "output_type": "stream",
          "text": [
            "<class 'pandas.core.frame.DataFrame'>\n",
            "RangeIndex: 237609 entries, 0 to 237608\n",
            "Data columns (total 7 columns):\n",
            " #   Column           Non-Null Count   Dtype         \n",
            "---  ------           --------------   -----         \n",
            " 0   impression_id    237609 non-null  object        \n",
            " 1   impression_time  237609 non-null  datetime64[ns]\n",
            " 2   user_id          237609 non-null  int64         \n",
            " 3   app_code         237609 non-null  int64         \n",
            " 4   os_version       237609 non-null  object        \n",
            " 5   is_4G            237609 non-null  int64         \n",
            " 6   is_click         237609 non-null  int64         \n",
            "dtypes: datetime64[ns](1), int64(4), object(2)\n",
            "memory usage: 12.7+ MB\n"
          ]
        }
      ],
      "source": [
        "impressions = pd.read_csv('/content/drive/MyDrive/CTR_data/train.csv')\n",
        "impressions['impression_time'] = pd.to_datetime(impressions['impression_time'])\n",
        "impressions.info()"
      ]
    },
    {
      "cell_type": "code",
      "execution_count": 46,
      "metadata": {
        "colab": {
          "base_uri": "https://localhost:8080/",
          "height": 206
        },
        "id": "8PUVwztPVEEs",
        "outputId": "56dfd318-2c1b-46ed-a981-5d7ac3862442"
      },
      "outputs": [
        {
          "data": {
            "text/html": [
              "\n",
              "  <div id=\"df-0badfc09-2283-43dc-9f89-e00a8f7bc382\">\n",
              "    <div class=\"colab-df-container\">\n",
              "      <div>\n",
              "<style scoped>\n",
              "    .dataframe tbody tr th:only-of-type {\n",
              "        vertical-align: middle;\n",
              "    }\n",
              "\n",
              "    .dataframe tbody tr th {\n",
              "        vertical-align: top;\n",
              "    }\n",
              "\n",
              "    .dataframe thead th {\n",
              "        text-align: right;\n",
              "    }\n",
              "</style>\n",
              "<table border=\"1\" class=\"dataframe\">\n",
              "  <thead>\n",
              "    <tr style=\"text-align: right;\">\n",
              "      <th></th>\n",
              "      <th>impression_id</th>\n",
              "      <th>impression_time</th>\n",
              "      <th>user_id</th>\n",
              "      <th>app_code</th>\n",
              "      <th>os_version</th>\n",
              "      <th>is_4G</th>\n",
              "      <th>is_click</th>\n",
              "    </tr>\n",
              "  </thead>\n",
              "  <tbody>\n",
              "    <tr>\n",
              "      <th>0</th>\n",
              "      <td>c4ca4238a0b923820dcc509a6f75849b</td>\n",
              "      <td>2018-11-15 00:00:00</td>\n",
              "      <td>87862</td>\n",
              "      <td>422</td>\n",
              "      <td>old</td>\n",
              "      <td>0</td>\n",
              "      <td>0</td>\n",
              "    </tr>\n",
              "    <tr>\n",
              "      <th>1</th>\n",
              "      <td>45c48cce2e2d7fbdea1afc51c7c6ad26</td>\n",
              "      <td>2018-11-15 00:01:00</td>\n",
              "      <td>63410</td>\n",
              "      <td>467</td>\n",
              "      <td>latest</td>\n",
              "      <td>1</td>\n",
              "      <td>1</td>\n",
              "    </tr>\n",
              "    <tr>\n",
              "      <th>2</th>\n",
              "      <td>70efdf2ec9b086079795c442636b55fb</td>\n",
              "      <td>2018-11-15 00:02:00</td>\n",
              "      <td>71748</td>\n",
              "      <td>259</td>\n",
              "      <td>intermediate</td>\n",
              "      <td>1</td>\n",
              "      <td>0</td>\n",
              "    </tr>\n",
              "    <tr>\n",
              "      <th>3</th>\n",
              "      <td>8e296a067a37563370ded05f5a3bf3ec</td>\n",
              "      <td>2018-11-15 00:02:00</td>\n",
              "      <td>69209</td>\n",
              "      <td>244</td>\n",
              "      <td>latest</td>\n",
              "      <td>1</td>\n",
              "      <td>0</td>\n",
              "    </tr>\n",
              "    <tr>\n",
              "      <th>4</th>\n",
              "      <td>182be0c5cdcd5072bb1864cdee4d3d6e</td>\n",
              "      <td>2018-11-15 00:02:00</td>\n",
              "      <td>62873</td>\n",
              "      <td>473</td>\n",
              "      <td>latest</td>\n",
              "      <td>0</td>\n",
              "      <td>0</td>\n",
              "    </tr>\n",
              "  </tbody>\n",
              "</table>\n",
              "</div>\n",
              "      <button class=\"colab-df-convert\" onclick=\"convertToInteractive('df-0badfc09-2283-43dc-9f89-e00a8f7bc382')\"\n",
              "              title=\"Convert this dataframe to an interactive table.\"\n",
              "              style=\"display:none;\">\n",
              "        \n",
              "  <svg xmlns=\"http://www.w3.org/2000/svg\" height=\"24px\"viewBox=\"0 0 24 24\"\n",
              "       width=\"24px\">\n",
              "    <path d=\"M0 0h24v24H0V0z\" fill=\"none\"/>\n",
              "    <path d=\"M18.56 5.44l.94 2.06.94-2.06 2.06-.94-2.06-.94-.94-2.06-.94 2.06-2.06.94zm-11 1L8.5 8.5l.94-2.06 2.06-.94-2.06-.94L8.5 2.5l-.94 2.06-2.06.94zm10 10l.94 2.06.94-2.06 2.06-.94-2.06-.94-.94-2.06-.94 2.06-2.06.94z\"/><path d=\"M17.41 7.96l-1.37-1.37c-.4-.4-.92-.59-1.43-.59-.52 0-1.04.2-1.43.59L10.3 9.45l-7.72 7.72c-.78.78-.78 2.05 0 2.83L4 21.41c.39.39.9.59 1.41.59.51 0 1.02-.2 1.41-.59l7.78-7.78 2.81-2.81c.8-.78.8-2.07 0-2.86zM5.41 20L4 18.59l7.72-7.72 1.47 1.35L5.41 20z\"/>\n",
              "  </svg>\n",
              "      </button>\n",
              "      \n",
              "  <style>\n",
              "    .colab-df-container {\n",
              "      display:flex;\n",
              "      flex-wrap:wrap;\n",
              "      gap: 12px;\n",
              "    }\n",
              "\n",
              "    .colab-df-convert {\n",
              "      background-color: #E8F0FE;\n",
              "      border: none;\n",
              "      border-radius: 50%;\n",
              "      cursor: pointer;\n",
              "      display: none;\n",
              "      fill: #1967D2;\n",
              "      height: 32px;\n",
              "      padding: 0 0 0 0;\n",
              "      width: 32px;\n",
              "    }\n",
              "\n",
              "    .colab-df-convert:hover {\n",
              "      background-color: #E2EBFA;\n",
              "      box-shadow: 0px 1px 2px rgba(60, 64, 67, 0.3), 0px 1px 3px 1px rgba(60, 64, 67, 0.15);\n",
              "      fill: #174EA6;\n",
              "    }\n",
              "\n",
              "    [theme=dark] .colab-df-convert {\n",
              "      background-color: #3B4455;\n",
              "      fill: #D2E3FC;\n",
              "    }\n",
              "\n",
              "    [theme=dark] .colab-df-convert:hover {\n",
              "      background-color: #434B5C;\n",
              "      box-shadow: 0px 1px 3px 1px rgba(0, 0, 0, 0.15);\n",
              "      filter: drop-shadow(0px 1px 2px rgba(0, 0, 0, 0.3));\n",
              "      fill: #FFFFFF;\n",
              "    }\n",
              "  </style>\n",
              "\n",
              "      <script>\n",
              "        const buttonEl =\n",
              "          document.querySelector('#df-0badfc09-2283-43dc-9f89-e00a8f7bc382 button.colab-df-convert');\n",
              "        buttonEl.style.display =\n",
              "          google.colab.kernel.accessAllowed ? 'block' : 'none';\n",
              "\n",
              "        async function convertToInteractive(key) {\n",
              "          const element = document.querySelector('#df-0badfc09-2283-43dc-9f89-e00a8f7bc382');\n",
              "          const dataTable =\n",
              "            await google.colab.kernel.invokeFunction('convertToInteractive',\n",
              "                                                     [key], {});\n",
              "          if (!dataTable) return;\n",
              "\n",
              "          const docLinkHtml = 'Like what you see? Visit the ' +\n",
              "            '<a target=\"_blank\" href=https://colab.research.google.com/notebooks/data_table.ipynb>data table notebook</a>'\n",
              "            + ' to learn more about interactive tables.';\n",
              "          element.innerHTML = '';\n",
              "          dataTable['output_type'] = 'display_data';\n",
              "          await google.colab.output.renderOutput(dataTable, element);\n",
              "          const docLink = document.createElement('div');\n",
              "          docLink.innerHTML = docLinkHtml;\n",
              "          element.appendChild(docLink);\n",
              "        }\n",
              "      </script>\n",
              "    </div>\n",
              "  </div>\n",
              "  "
            ],
            "text/plain": [
              "                      impression_id     impression_time  user_id  app_code  \\\n",
              "0  c4ca4238a0b923820dcc509a6f75849b 2018-11-15 00:00:00    87862       422   \n",
              "1  45c48cce2e2d7fbdea1afc51c7c6ad26 2018-11-15 00:01:00    63410       467   \n",
              "2  70efdf2ec9b086079795c442636b55fb 2018-11-15 00:02:00    71748       259   \n",
              "3  8e296a067a37563370ded05f5a3bf3ec 2018-11-15 00:02:00    69209       244   \n",
              "4  182be0c5cdcd5072bb1864cdee4d3d6e 2018-11-15 00:02:00    62873       473   \n",
              "\n",
              "     os_version  is_4G  is_click  \n",
              "0           old      0         0  \n",
              "1        latest      1         1  \n",
              "2  intermediate      1         0  \n",
              "3        latest      1         0  \n",
              "4        latest      0         0  "
            ]
          },
          "execution_count": 46,
          "metadata": {},
          "output_type": "execute_result"
        }
      ],
      "source": [
        "impressions.head()"
      ]
    },
    {
      "cell_type": "code",
      "execution_count": 47,
      "metadata": {
        "colab": {
          "base_uri": "https://localhost:8080/"
        },
        "id": "e44rv_DmVEEt",
        "outputId": "71c56d1a-7429-470c-d732-54b9c6535e2c"
      },
      "outputs": [
        {
          "data": {
            "text/plain": [
              "impression_id      237609\n",
              "impression_time     36461\n",
              "user_id             74723\n",
              "app_code              490\n",
              "os_version              3\n",
              "is_4G                   2\n",
              "is_click                2\n",
              "dtype: int64"
            ]
          },
          "execution_count": 47,
          "metadata": {},
          "output_type": "execute_result"
        }
      ],
      "source": [
        "impressions.nunique()"
      ]
    },
    {
      "cell_type": "markdown",
      "metadata": {
        "id": "Oxjgs5G-VEEu"
      },
      "source": [
        "impression_id - id показа рекламы  \n",
        "impression_time - время показа рекламы  \n",
        "user_id - id пользователя  \n",
        "is_click - нажатие на рекламу"
      ]
    },
    {
      "cell_type": "code",
      "execution_count": 48,
      "metadata": {
        "colab": {
          "base_uri": "https://localhost:8080/"
        },
        "id": "Pzvu4uTiVEEw",
        "outputId": "f90ed608-c1bb-45c8-8bbc-68e4e7e93885"
      },
      "outputs": [
        {
          "name": "stdout",
          "output_type": "stream",
          "text": [
            "Временной период: 2018-11-15 00:00:00 - 2018-12-13 07:43:00\n"
          ]
        }
      ],
      "source": [
        "print(f'Временной период: {impressions.impression_time.min()} - {impressions.impression_time.max()}')"
      ]
    },
    {
      "cell_type": "markdown",
      "metadata": {
        "id": "qrAB_-TCVEEy"
      },
      "source": [
        "## Предварительная оценка CTR"
      ]
    },
    {
      "cell_type": "markdown",
      "metadata": {
        "id": "ULgUIjZJVEEz"
      },
      "source": [
        "Заранее известно, что распределение числа кликов является Биномиальным, а распределение числа просмотров - логнормальное. Было выяснено, что для получения состоятельно результата, необходимо собрать данные, которые мы можем получить примерно за месяц. Проверять гипотезу изначально предлагается с использованием теста Хи-квадрат: имеем две категориальные переменные (метка группы и метка клика), все наблюдения независимы, поскольку каждый пользователь действует независимо от других (метка группы назначается пользователю случайно), просмотры и клики каждого пользователя учитываются только один раз. То есть все допущения данного теста выполняются. Предположим, реклама висит уже неделю. За это время были собраны данные по кликам для двух групп пользователей, но для проведения теста с заданной желаемой мощьностью, чтобы он улавливал необходимый размер эффекта, их пока не достаточно. Однако требуется провести тест уже сейчас. Выход - прибегнуть к процедуре бутстрапа. Классический бутстрап запускать довольно дорого по времени и по памяти из-за имеющегося объема данных (да и требует он наличия конечной выборки и знания числа наблюдений в ней), а если используются параллельные вычисления, то необходимо также контролировать сумму весов наблюдений (= n), генерируемых из биномиального распределения, для каждой бутстраповской выборки. Пуассоновская аппроксимация дает свободу от: 1) знания n, которое требуется для генерации весов из биномиального распределения; 2) проблем, которые создаются параллельными вычислениями, для классического бутстрапа."
      ]
    },
    {
      "cell_type": "code",
      "execution_count": 49,
      "metadata": {
        "id": "0N5wvv1RVEE0"
      },
      "outputs": [],
      "source": [
        "start_date = dt.datetime(2018, 11, 15)\n",
        "end_date = dt.datetime(2018, 11, 21)\n",
        "dt_mask = (impressions['impression_time'] > start_date) & (impressions['impression_time'] < end_date)  # недельные данные"
      ]
    },
    {
      "cell_type": "code",
      "execution_count": 50,
      "metadata": {
        "colab": {
          "base_uri": "https://localhost:8080/",
          "height": 206
        },
        "id": "Aat4IAkZcZMb",
        "outputId": "8a3f70ad-0cec-42c4-d844-ab8ce7016382"
      },
      "outputs": [
        {
          "data": {
            "text/html": [
              "\n",
              "  <div id=\"df-ada06fc5-5b7d-4ffd-b156-3b3151f67c44\">\n",
              "    <div class=\"colab-df-container\">\n",
              "      <div>\n",
              "<style scoped>\n",
              "    .dataframe tbody tr th:only-of-type {\n",
              "        vertical-align: middle;\n",
              "    }\n",
              "\n",
              "    .dataframe tbody tr th {\n",
              "        vertical-align: top;\n",
              "    }\n",
              "\n",
              "    .dataframe thead th {\n",
              "        text-align: right;\n",
              "    }\n",
              "</style>\n",
              "<table border=\"1\" class=\"dataframe\">\n",
              "  <thead>\n",
              "    <tr style=\"text-align: right;\">\n",
              "      <th></th>\n",
              "      <th>user_id</th>\n",
              "      <th>clicks</th>\n",
              "      <th>views</th>\n",
              "    </tr>\n",
              "  </thead>\n",
              "  <tbody>\n",
              "    <tr>\n",
              "      <th>0</th>\n",
              "      <td>0</td>\n",
              "      <td>0</td>\n",
              "      <td>1</td>\n",
              "    </tr>\n",
              "    <tr>\n",
              "      <th>1</th>\n",
              "      <td>2</td>\n",
              "      <td>0</td>\n",
              "      <td>4</td>\n",
              "    </tr>\n",
              "    <tr>\n",
              "      <th>2</th>\n",
              "      <td>3</td>\n",
              "      <td>0</td>\n",
              "      <td>1</td>\n",
              "    </tr>\n",
              "    <tr>\n",
              "      <th>3</th>\n",
              "      <td>5</td>\n",
              "      <td>0</td>\n",
              "      <td>2</td>\n",
              "    </tr>\n",
              "    <tr>\n",
              "      <th>4</th>\n",
              "      <td>6</td>\n",
              "      <td>0</td>\n",
              "      <td>1</td>\n",
              "    </tr>\n",
              "  </tbody>\n",
              "</table>\n",
              "</div>\n",
              "      <button class=\"colab-df-convert\" onclick=\"convertToInteractive('df-ada06fc5-5b7d-4ffd-b156-3b3151f67c44')\"\n",
              "              title=\"Convert this dataframe to an interactive table.\"\n",
              "              style=\"display:none;\">\n",
              "        \n",
              "  <svg xmlns=\"http://www.w3.org/2000/svg\" height=\"24px\"viewBox=\"0 0 24 24\"\n",
              "       width=\"24px\">\n",
              "    <path d=\"M0 0h24v24H0V0z\" fill=\"none\"/>\n",
              "    <path d=\"M18.56 5.44l.94 2.06.94-2.06 2.06-.94-2.06-.94-.94-2.06-.94 2.06-2.06.94zm-11 1L8.5 8.5l.94-2.06 2.06-.94-2.06-.94L8.5 2.5l-.94 2.06-2.06.94zm10 10l.94 2.06.94-2.06 2.06-.94-2.06-.94-.94-2.06-.94 2.06-2.06.94z\"/><path d=\"M17.41 7.96l-1.37-1.37c-.4-.4-.92-.59-1.43-.59-.52 0-1.04.2-1.43.59L10.3 9.45l-7.72 7.72c-.78.78-.78 2.05 0 2.83L4 21.41c.39.39.9.59 1.41.59.51 0 1.02-.2 1.41-.59l7.78-7.78 2.81-2.81c.8-.78.8-2.07 0-2.86zM5.41 20L4 18.59l7.72-7.72 1.47 1.35L5.41 20z\"/>\n",
              "  </svg>\n",
              "      </button>\n",
              "      \n",
              "  <style>\n",
              "    .colab-df-container {\n",
              "      display:flex;\n",
              "      flex-wrap:wrap;\n",
              "      gap: 12px;\n",
              "    }\n",
              "\n",
              "    .colab-df-convert {\n",
              "      background-color: #E8F0FE;\n",
              "      border: none;\n",
              "      border-radius: 50%;\n",
              "      cursor: pointer;\n",
              "      display: none;\n",
              "      fill: #1967D2;\n",
              "      height: 32px;\n",
              "      padding: 0 0 0 0;\n",
              "      width: 32px;\n",
              "    }\n",
              "\n",
              "    .colab-df-convert:hover {\n",
              "      background-color: #E2EBFA;\n",
              "      box-shadow: 0px 1px 2px rgba(60, 64, 67, 0.3), 0px 1px 3px 1px rgba(60, 64, 67, 0.15);\n",
              "      fill: #174EA6;\n",
              "    }\n",
              "\n",
              "    [theme=dark] .colab-df-convert {\n",
              "      background-color: #3B4455;\n",
              "      fill: #D2E3FC;\n",
              "    }\n",
              "\n",
              "    [theme=dark] .colab-df-convert:hover {\n",
              "      background-color: #434B5C;\n",
              "      box-shadow: 0px 1px 3px 1px rgba(0, 0, 0, 0.15);\n",
              "      filter: drop-shadow(0px 1px 2px rgba(0, 0, 0, 0.3));\n",
              "      fill: #FFFFFF;\n",
              "    }\n",
              "  </style>\n",
              "\n",
              "      <script>\n",
              "        const buttonEl =\n",
              "          document.querySelector('#df-ada06fc5-5b7d-4ffd-b156-3b3151f67c44 button.colab-df-convert');\n",
              "        buttonEl.style.display =\n",
              "          google.colab.kernel.accessAllowed ? 'block' : 'none';\n",
              "\n",
              "        async function convertToInteractive(key) {\n",
              "          const element = document.querySelector('#df-ada06fc5-5b7d-4ffd-b156-3b3151f67c44');\n",
              "          const dataTable =\n",
              "            await google.colab.kernel.invokeFunction('convertToInteractive',\n",
              "                                                     [key], {});\n",
              "          if (!dataTable) return;\n",
              "\n",
              "          const docLinkHtml = 'Like what you see? Visit the ' +\n",
              "            '<a target=\"_blank\" href=https://colab.research.google.com/notebooks/data_table.ipynb>data table notebook</a>'\n",
              "            + ' to learn more about interactive tables.';\n",
              "          element.innerHTML = '';\n",
              "          dataTable['output_type'] = 'display_data';\n",
              "          await google.colab.output.renderOutput(dataTable, element);\n",
              "          const docLink = document.createElement('div');\n",
              "          docLink.innerHTML = docLinkHtml;\n",
              "          element.appendChild(docLink);\n",
              "        }\n",
              "      </script>\n",
              "    </div>\n",
              "  </div>\n",
              "  "
            ],
            "text/plain": [
              "   user_id  clicks  views\n",
              "0        0       0      1\n",
              "1        2       0      4\n",
              "2        3       0      1\n",
              "3        5       0      2\n",
              "4        6       0      1"
            ]
          },
          "execution_count": 50,
          "metadata": {},
          "output_type": "execute_result"
        }
      ],
      "source": [
        "user_level_ctr = impressions.groupby('user_id', as_index=False).agg({'is_click': ['sum', 'count']}).droplevel(0, axis=1)\n",
        "user_level_ctr.columns = ['user_id', 'clicks', 'views']\n",
        "user_level_ctr.head()"
      ]
    },
    {
      "cell_type": "code",
      "execution_count": 51,
      "metadata": {
        "colab": {
          "base_uri": "https://localhost:8080/",
          "height": 350
        },
        "id": "A82ZgHHJlxRm",
        "outputId": "c8575ee5-ed1e-4f8d-dc82-77c68e1641e6"
      },
      "outputs": [
        {
          "data": {
            "image/png": "[encoded data removed]",
            "text/plain": [
              "<Figure size 864x360 with 2 Axes>"
            ]
          },
          "metadata": {
            "needs_background": "light"
          },
          "output_type": "display_data"
        }
      ],
      "source": [
        "fig, axes = plt.subplots(1, 2, figsize=(12, 5))\n",
        "axes[0].set_title('Clicks Distribution')\n",
        "sns.histplot(ax=axes[0], data=user_level_ctr['clicks'], binwidth=1)\n",
        "axes[1].set_title('Views Distribution')\n",
        "sns.histplot(ax=axes[1], data=user_level_ctr['views'], binwidth=2)\n",
        "plt.show()"
      ]
    },
    {
      "cell_type": "code",
      "execution_count": 52,
      "metadata": {
        "id": "eaGEERfphCAy"
      },
      "outputs": [],
      "source": [
        "pd.options.mode.chained_assignment = None"
      ]
    },
    {
      "cell_type": "code",
      "execution_count": 85,
      "metadata": {
        "colab": {
          "base_uri": "https://localhost:8080/"
        },
        "id": "SRcHFpQWd89H",
        "outputId": "81938f83-af6d-4773-ae1b-ec80781d196d"
      },
      "outputs": [
        {
          "name": "stdout",
          "output_type": "stream",
          "text": [
            "37361 37362\n"
          ]
        }
      ],
      "source": [
        "# синтетически делим пользователей на 2 группы, предполагая, что это делается в самом процессе проведения теста\n",
        "control_group_data = user_level_ctr.sample(n=len(user_level_ctr) // 2, random_state=33)\n",
        "treatment_group_data = user_level_ctr[~user_level_ctr.user_id.isin(control_group_data.user_id.values)]\n",
        "control_group_data['group_label'] = ['control'] * control_group_data.shape[0]\n",
        "treatment_group_data['group_label'] = ['treatment'] * treatment_group_data.shape[0]\n",
        "print(control_group_data.shape[0], treatment_group_data.shape[0])"
      ]
    },
    {
      "cell_type": "code",
      "execution_count": 86,
      "metadata": {
        "colab": {
          "base_uri": "https://localhost:8080/",
          "height": 206
        },
        "id": "wVv4oqDpfrSh",
        "outputId": "2532a1b6-60b6-4c0d-f0c5-924f7c4cad37"
      },
      "outputs": [
        {
          "data": {
            "text/html": [
              "\n",
              "  <div id=\"df-6aa505f1-9626-4760-8459-0a9ae1e9c538\">\n",
              "    <div class=\"colab-df-container\">\n",
              "      <div>\n",
              "<style scoped>\n",
              "    .dataframe tbody tr th:only-of-type {\n",
              "        vertical-align: middle;\n",
              "    }\n",
              "\n",
              "    .dataframe tbody tr th {\n",
              "        vertical-align: top;\n",
              "    }\n",
              "\n",
              "    .dataframe thead th {\n",
              "        text-align: right;\n",
              "    }\n",
              "</style>\n",
              "<table border=\"1\" class=\"dataframe\">\n",
              "  <thead>\n",
              "    <tr style=\"text-align: right;\">\n",
              "      <th></th>\n",
              "      <th>user_id</th>\n",
              "      <th>clicks</th>\n",
              "      <th>views</th>\n",
              "      <th>group_label</th>\n",
              "    </tr>\n",
              "  </thead>\n",
              "  <tbody>\n",
              "    <tr>\n",
              "      <th>0</th>\n",
              "      <td>0</td>\n",
              "      <td>0</td>\n",
              "      <td>1</td>\n",
              "      <td>control</td>\n",
              "    </tr>\n",
              "    <tr>\n",
              "      <th>1</th>\n",
              "      <td>2</td>\n",
              "      <td>0</td>\n",
              "      <td>4</td>\n",
              "      <td>treatment</td>\n",
              "    </tr>\n",
              "    <tr>\n",
              "      <th>2</th>\n",
              "      <td>3</td>\n",
              "      <td>0</td>\n",
              "      <td>1</td>\n",
              "      <td>control</td>\n",
              "    </tr>\n",
              "    <tr>\n",
              "      <th>3</th>\n",
              "      <td>5</td>\n",
              "      <td>0</td>\n",
              "      <td>2</td>\n",
              "      <td>control</td>\n",
              "    </tr>\n",
              "    <tr>\n",
              "      <th>4</th>\n",
              "      <td>6</td>\n",
              "      <td>0</td>\n",
              "      <td>1</td>\n",
              "      <td>control</td>\n",
              "    </tr>\n",
              "  </tbody>\n",
              "</table>\n",
              "</div>\n",
              "      <button class=\"colab-df-convert\" onclick=\"convertToInteractive('df-6aa505f1-9626-4760-8459-0a9ae1e9c538')\"\n",
              "              title=\"Convert this dataframe to an interactive table.\"\n",
              "              style=\"display:none;\">\n",
              "        \n",
              "  <svg xmlns=\"http://www.w3.org/2000/svg\" height=\"24px\"viewBox=\"0 0 24 24\"\n",
              "       width=\"24px\">\n",
              "    <path d=\"M0 0h24v24H0V0z\" fill=\"none\"/>\n",
              "    <path d=\"M18.56 5.44l.94 2.06.94-2.06 2.06-.94-2.06-.94-.94-2.06-.94 2.06-2.06.94zm-11 1L8.5 8.5l.94-2.06 2.06-.94-2.06-.94L8.5 2.5l-.94 2.06-2.06.94zm10 10l.94 2.06.94-2.06 2.06-.94-2.06-.94-.94-2.06-.94 2.06-2.06.94z\"/><path d=\"M17.41 7.96l-1.37-1.37c-.4-.4-.92-.59-1.43-.59-.52 0-1.04.2-1.43.59L10.3 9.45l-7.72 7.72c-.78.78-.78 2.05 0 2.83L4 21.41c.39.39.9.59 1.41.59.51 0 1.02-.2 1.41-.59l7.78-7.78 2.81-2.81c.8-.78.8-2.07 0-2.86zM5.41 20L4 18.59l7.72-7.72 1.47 1.35L5.41 20z\"/>\n",
              "  </svg>\n",
              "      </button>\n",
              "      \n",
              "  <style>\n",
              "    .colab-df-container {\n",
              "      display:flex;\n",
              "      flex-wrap:wrap;\n",
              "      gap: 12px;\n",
              "    }\n",
              "\n",
              "    .colab-df-convert {\n",
              "      background-color: #E8F0FE;\n",
              "      border: none;\n",
              "      border-radius: 50%;\n",
              "      cursor: pointer;\n",
              "      display: none;\n",
              "      fill: #1967D2;\n",
              "      height: 32px;\n",
              "      padding: 0 0 0 0;\n",
              "      width: 32px;\n",
              "    }\n",
              "\n",
              "    .colab-df-convert:hover {\n",
              "      background-color: #E2EBFA;\n",
              "      box-shadow: 0px 1px 2px rgba(60, 64, 67, 0.3), 0px 1px 3px 1px rgba(60, 64, 67, 0.15);\n",
              "      fill: #174EA6;\n",
              "    }\n",
              "\n",
              "    [theme=dark] .colab-df-convert {\n",
              "      background-color: #3B4455;\n",
              "      fill: #D2E3FC;\n",
              "    }\n",
              "\n",
              "    [theme=dark] .colab-df-convert:hover {\n",
              "      background-color: #434B5C;\n",
              "      box-shadow: 0px 1px 3px 1px rgba(0, 0, 0, 0.15);\n",
              "      filter: drop-shadow(0px 1px 2px rgba(0, 0, 0, 0.3));\n",
              "      fill: #FFFFFF;\n",
              "    }\n",
              "  </style>\n",
              "\n",
              "      <script>\n",
              "        const buttonEl =\n",
              "          document.querySelector('#df-6aa505f1-9626-4760-8459-0a9ae1e9c538 button.colab-df-convert');\n",
              "        buttonEl.style.display =\n",
              "          google.colab.kernel.accessAllowed ? 'block' : 'none';\n",
              "\n",
              "        async function convertToInteractive(key) {\n",
              "          const element = document.querySelector('#df-6aa505f1-9626-4760-8459-0a9ae1e9c538');\n",
              "          const dataTable =\n",
              "            await google.colab.kernel.invokeFunction('convertToInteractive',\n",
              "                                                     [key], {});\n",
              "          if (!dataTable) return;\n",
              "\n",
              "          const docLinkHtml = 'Like what you see? Visit the ' +\n",
              "            '<a target=\"_blank\" href=https://colab.research.google.com/notebooks/data_table.ipynb>data table notebook</a>'\n",
              "            + ' to learn more about interactive tables.';\n",
              "          element.innerHTML = '';\n",
              "          dataTable['output_type'] = 'display_data';\n",
              "          await google.colab.output.renderOutput(dataTable, element);\n",
              "          const docLink = document.createElement('div');\n",
              "          docLink.innerHTML = docLinkHtml;\n",
              "          element.appendChild(docLink);\n",
              "        }\n",
              "      </script>\n",
              "    </div>\n",
              "  </div>\n",
              "  "
            ],
            "text/plain": [
              "   user_id  clicks  views group_label\n",
              "0        0       0      1     control\n",
              "1        2       0      4   treatment\n",
              "2        3       0      1     control\n",
              "3        5       0      2     control\n",
              "4        6       0      1     control"
            ]
          },
          "execution_count": 86,
          "metadata": {},
          "output_type": "execute_result"
        }
      ],
      "source": [
        "user_level_ctr = pd.concat([control_group_data, treatment_group_data]).sort_values('user_id')\n",
        "user_level_ctr.head()"
      ]
    },
    {
      "cell_type": "code",
      "execution_count": 87,
      "metadata": {
        "colab": {
          "base_uri": "https://localhost:8080/",
          "height": 126
        },
        "id": "25XzlR1KxB3V",
        "outputId": "6e5b745b-b8b7-4462-f0db-c81b13ea6b1f"
      },
      "outputs": [
        {
          "data": {
            "text/html": [
              "\n",
              "  <div id=\"df-9624a39d-aa49-443b-bd1d-724bfaf42f62\">\n",
              "    <div class=\"colab-df-container\">\n",
              "      <div>\n",
              "<style scoped>\n",
              "    .dataframe tbody tr th:only-of-type {\n",
              "        vertical-align: middle;\n",
              "    }\n",
              "\n",
              "    .dataframe tbody tr th {\n",
              "        vertical-align: top;\n",
              "    }\n",
              "\n",
              "    .dataframe thead th {\n",
              "        text-align: right;\n",
              "    }\n",
              "</style>\n",
              "<table border=\"1\" class=\"dataframe\">\n",
              "  <thead>\n",
              "    <tr style=\"text-align: right;\">\n",
              "      <th></th>\n",
              "      <th>control</th>\n",
              "      <th>treatment</th>\n",
              "    </tr>\n",
              "    <tr>\n",
              "      <th></th>\n",
              "      <th></th>\n",
              "      <th></th>\n",
              "    </tr>\n",
              "  </thead>\n",
              "  <tbody>\n",
              "    <tr>\n",
              "      <th>click</th>\n",
              "      <td>5289</td>\n",
              "      <td>5573</td>\n",
              "    </tr>\n",
              "    <tr>\n",
              "      <th>no_click</th>\n",
              "      <td>111981</td>\n",
              "      <td>114766</td>\n",
              "    </tr>\n",
              "  </tbody>\n",
              "</table>\n",
              "</div>\n",
              "      <button class=\"colab-df-convert\" onclick=\"convertToInteractive('df-9624a39d-aa49-443b-bd1d-724bfaf42f62')\"\n",
              "              title=\"Convert this dataframe to an interactive table.\"\n",
              "              style=\"display:none;\">\n",
              "        \n",
              "  <svg xmlns=\"http://www.w3.org/2000/svg\" height=\"24px\"viewBox=\"0 0 24 24\"\n",
              "       width=\"24px\">\n",
              "    <path d=\"M0 0h24v24H0V0z\" fill=\"none\"/>\n",
              "    <path d=\"M18.56 5.44l.94 2.06.94-2.06 2.06-.94-2.06-.94-.94-2.06-.94 2.06-2.06.94zm-11 1L8.5 8.5l.94-2.06 2.06-.94-2.06-.94L8.5 2.5l-.94 2.06-2.06.94zm10 10l.94 2.06.94-2.06 2.06-.94-2.06-.94-.94-2.06-.94 2.06-2.06.94z\"/><path d=\"M17.41 7.96l-1.37-1.37c-.4-.4-.92-.59-1.43-.59-.52 0-1.04.2-1.43.59L10.3 9.45l-7.72 7.72c-.78.78-.78 2.05 0 2.83L4 21.41c.39.39.9.59 1.41.59.51 0 1.02-.2 1.41-.59l7.78-7.78 2.81-2.81c.8-.78.8-2.07 0-2.86zM5.41 20L4 18.59l7.72-7.72 1.47 1.35L5.41 20z\"/>\n",
              "  </svg>\n",
              "      </button>\n",
              "      \n",
              "  <style>\n",
              "    .colab-df-container {\n",
              "      display:flex;\n",
              "      flex-wrap:wrap;\n",
              "      gap: 12px;\n",
              "    }\n",
              "\n",
              "    .colab-df-convert {\n",
              "      background-color: #E8F0FE;\n",
              "      border: none;\n",
              "      border-radius: 50%;\n",
              "      cursor: pointer;\n",
              "      display: none;\n",
              "      fill: #1967D2;\n",
              "      height: 32px;\n",
              "      padding: 0 0 0 0;\n",
              "      width: 32px;\n",
              "    }\n",
              "\n",
              "    .colab-df-convert:hover {\n",
              "      background-color: #E2EBFA;\n",
              "      box-shadow: 0px 1px 2px rgba(60, 64, 67, 0.3), 0px 1px 3px 1px rgba(60, 64, 67, 0.15);\n",
              "      fill: #174EA6;\n",
              "    }\n",
              "\n",
              "    [theme=dark] .colab-df-convert {\n",
              "      background-color: #3B4455;\n",
              "      fill: #D2E3FC;\n",
              "    }\n",
              "\n",
              "    [theme=dark] .colab-df-convert:hover {\n",
              "      background-color: #434B5C;\n",
              "      box-shadow: 0px 1px 3px 1px rgba(0, 0, 0, 0.15);\n",
              "      filter: drop-shadow(0px 1px 2px rgba(0, 0, 0, 0.3));\n",
              "      fill: #FFFFFF;\n",
              "    }\n",
              "  </style>\n",
              "\n",
              "      <script>\n",
              "        const buttonEl =\n",
              "          document.querySelector('#df-9624a39d-aa49-443b-bd1d-724bfaf42f62 button.colab-df-convert');\n",
              "        buttonEl.style.display =\n",
              "          google.colab.kernel.accessAllowed ? 'block' : 'none';\n",
              "\n",
              "        async function convertToInteractive(key) {\n",
              "          const element = document.querySelector('#df-9624a39d-aa49-443b-bd1d-724bfaf42f62');\n",
              "          const dataTable =\n",
              "            await google.colab.kernel.invokeFunction('convertToInteractive',\n",
              "                                                     [key], {});\n",
              "          if (!dataTable) return;\n",
              "\n",
              "          const docLinkHtml = 'Like what you see? Visit the ' +\n",
              "            '<a target=\"_blank\" href=https://colab.research.google.com/notebooks/data_table.ipynb>data table notebook</a>'\n",
              "            + ' to learn more about interactive tables.';\n",
              "          element.innerHTML = '';\n",
              "          dataTable['output_type'] = 'display_data';\n",
              "          await google.colab.output.renderOutput(dataTable, element);\n",
              "          const docLink = document.createElement('div');\n",
              "          docLink.innerHTML = docLinkHtml;\n",
              "          element.appendChild(docLink);\n",
              "        }\n",
              "      </script>\n",
              "    </div>\n",
              "  </div>\n",
              "  "
            ],
            "text/plain": [
              "          control  treatment\n",
              "                            \n",
              "click        5289       5573\n",
              "no_click   111981     114766"
            ]
          },
          "execution_count": 87,
          "metadata": {},
          "output_type": "execute_result"
        }
      ],
      "source": [
        "contingency_table = user_level_ctr.copy()\n",
        "contingency_table['views'] = contingency_table['views'] - contingency_table['clicks']\n",
        "contingency_table.rename(columns={'clicks': 'click', 'views': 'no_click'}, inplace=True)\n",
        "contingency_table = pd.melt(contingency_table, id_vars=['user_id', 'group_label'], value_vars=['click', 'no_click'], var_name='is_click', value_name='count')\n",
        "contingency_table = contingency_table.pivot_table(index='is_click', columns='group_label', values='count', aggfunc='sum')\n",
        "contingency_table.columns.name, contingency_table.index.name = '', ''\n",
        "contingency_table"
      ]
    },
    {
      "cell_type": "markdown",
      "metadata": {
        "id": "5YSsPz9_2i0U"
      },
      "source": [
        "Дисбаланса классов нет."
      ]
    },
    {
      "cell_type": "code",
      "execution_count": 88,
      "metadata": {
        "id": "sMTZrjAiVEE3"
      },
      "outputs": [],
      "source": [
        "global_ctr_control = control_group_data['clicks'].sum() / control_group_data['views'].sum()\n",
        "global_ctr_treatment = treatment_group_data['clicks'].sum() / treatment_group_data['views'].sum()"
      ]
    },
    {
      "cell_type": "code",
      "execution_count": 89,
      "metadata": {
        "colab": {
          "base_uri": "https://localhost:8080/"
        },
        "id": "YHp5KVokVEE3",
        "outputId": "18db9e4c-a545-42a2-dd98-05c78dd135ee"
      },
      "outputs": [
        {
          "name": "stdout",
          "output_type": "stream",
          "text": [
            "Control group global CTR: 4.51%\n",
            "Treatment group global CTR: 4.63%\n"
          ]
        }
      ],
      "source": [
        "print('Control group global CTR: {:.2%}'.format(global_ctr_control))\n",
        "print('Treatment group global CTR: {:.2%}'.format(global_ctr_treatment))"
      ]
    },
    {
      "cell_type": "markdown",
      "metadata": {
        "id": "Vb4jaOdsVEE4"
      },
      "source": [
        "## Сравнение быстродействия классического и Пуассоновоского бутстрапа"
      ]
    },
    {
      "cell_type": "code",
      "execution_count": 90,
      "metadata": {
        "id": "9eTrRpQ9VEE5"
      },
      "outputs": [],
      "source": [
        "def poisson_bootstrap(B):\n",
        "    # работает при n >= 100, так как сумма элементов вектора не фиксирована и не равна n (доп. источник вариации)\n",
        "    sampled = np.random.poisson(1, B)\n",
        "\n",
        "def multinomial_bootstrap(n):\n",
        "    # сумма элементов вектора фиксирована и равна n\n",
        "    sampled = np.random.multinomial(n, [1. / n] * n)"
      ]
    },
    {
      "cell_type": "code",
      "execution_count": 91,
      "metadata": {
        "colab": {
          "base_uri": "https://localhost:8080/"
        },
        "id": "3qW3QRH-VEE6",
        "outputId": "83f47544-6dfa-4ff2-a7bb-c03abb2852b0"
      },
      "outputs": [
        {
          "name": "stdout",
          "output_type": "stream",
          "text": [
            "74723 1000\n"
          ]
        }
      ],
      "source": [
        "n = len(user_level_ctr)\n",
        "B = 1000\n",
        "print(n, B)"
      ]
    },
    {
      "cell_type": "code",
      "execution_count": 92,
      "metadata": {
        "colab": {
          "base_uri": "https://localhost:8080/"
        },
        "id": "pcFCVE25VEE7",
        "outputId": "6960ec97-4493-4b67-db9d-2dce5cc637fd"
      },
      "outputs": [
        {
          "data": {
            "text/plain": [
              "74723.0"
            ]
          },
          "execution_count": 92,
          "metadata": {},
          "output_type": "execute_result"
        }
      ],
      "source": [
        "# средняя сумма k в одной подвыборке для классического бутстрапа совпадает с n\n",
        "multinomial_samples = np.array([np.random.multinomial(n, [1. / n] * n) for i in range(B)])\n",
        "np.mean([np.sum(multinomial_samples[i]) for i in range(B)])"
      ]
    },
    {
      "cell_type": "code",
      "execution_count": 93,
      "metadata": {
        "colab": {
          "base_uri": "https://localhost:8080/"
        },
        "id": "g8Fx1opBVEE9",
        "outputId": "ba360a03-1ce6-4f72-89e0-dbb6ef4d6ca4"
      },
      "outputs": [
        {
          "data": {
            "text/plain": [
              "74737.712"
            ]
          },
          "execution_count": 93,
          "metadata": {},
          "output_type": "execute_result"
        }
      ],
      "source": [
        "# средняя сумма k в одной подвыборке для Пуассоновского бутстрапа аппроксимирует n\n",
        "poisson_samples = np.array([np.random.poisson(1, B) for i in range(n)]).T\n",
        "np.mean([np.sum(poisson_samples[i]) for i in range(B)])"
      ]
    },
    {
      "cell_type": "markdown",
      "metadata": {
        "id": "jWeTcJhKVEE_"
      },
      "source": [
        "При больших n этим можно пренебречь."
      ]
    },
    {
      "cell_type": "code",
      "execution_count": 94,
      "metadata": {
        "colab": {
          "base_uri": "https://localhost:8080/"
        },
        "id": "ala3JNe9VEE_",
        "outputId": "33dcff32-8473-4fc3-98fa-9204d1d829a0"
      },
      "outputs": [
        {
          "name": "stdout",
          "output_type": "stream",
          "text": [
            "4.76 s ± 423 ms per loop (mean ± std. dev. of 7 runs, 1 loop each)\n"
          ]
        }
      ],
      "source": [
        "%%timeit\n",
        "# генерируем вектор длины B из пуассоновского распределения n раз (независимо один раз для каждого наблюдения)\n",
        "list(map(poisson_bootstrap, [B for i in range(n)]))"
      ]
    },
    {
      "cell_type": "code",
      "execution_count": 95,
      "metadata": {
        "colab": {
          "base_uri": "https://localhost:8080/"
        },
        "id": "0kT-l-f3VEFA",
        "outputId": "c11cedcc-fba1-491e-89e4-1f8b0a83176d"
      },
      "outputs": [
        {
          "name": "stdout",
          "output_type": "stream",
          "text": [
            "10.8 s ± 590 ms per loop (mean ± std. dev. of 7 runs, 1 loop each)\n"
          ]
        }
      ],
      "source": [
        "%%timeit\n",
        "# генерируем вектор длины n из мультиномиального распределения B раз\n",
        "list(map(multinomial_bootstrap, [n for i in range(B)]))"
      ]
    },
    {
      "cell_type": "markdown",
      "metadata": {
        "id": "vYfYui-RVEFB"
      },
      "source": [
        "\\* Ускоренный станадартный бутстрап"
      ]
    },
    {
      "cell_type": "code",
      "execution_count": 96,
      "metadata": {
        "id": "D6ZJgunVVEFC"
      },
      "outputs": [],
      "source": [
        "fast_multinomial_bootstrap = njit(multinomial_bootstrap)"
      ]
    },
    {
      "cell_type": "code",
      "execution_count": 97,
      "metadata": {
        "colab": {
          "base_uri": "https://localhost:8080/"
        },
        "id": "xgqLphUhVEFD",
        "outputId": "cff2c35d-1f7a-4104-b2c2-f33149cde0da"
      },
      "outputs": [
        {
          "name": "stdout",
          "output_type": "stream",
          "text": [
            "9.51 s ± 444 ms per loop (mean ± std. dev. of 7 runs, 1 loop each)\n"
          ]
        }
      ],
      "source": [
        "%%timeit\n",
        "list(map(fast_multinomial_bootstrap, [n for i in range(B)]))"
      ]
    },
    {
      "cell_type": "markdown",
      "metadata": {
        "id": "SI2FnJm8VEFE"
      },
      "source": [
        "Вывод: Пуассоновский бутстрап работает быстрее. Используем его."
      ]
    },
    {
      "cell_type": "markdown",
      "metadata": {
        "id": "uzVu9TPLVEFF"
      },
      "source": [
        "## Сравнение на примере оценки эффективности двух рекламных объявлений"
      ]
    },
    {
      "cell_type": "markdown",
      "metadata": {
        "id": "_IwnjyuWqZEz"
      },
      "source": [
        "Если в итоге доверительный интервал для разности CTR пересечет 0, то разность не значима статистически."
      ]
    },
    {
      "cell_type": "code",
      "execution_count": 98,
      "metadata": {
        "id": "ERYSQ5FUVEFG"
      },
      "outputs": [],
      "source": [
        "alpha = 0.05"
      ]
    },
    {
      "cell_type": "markdown",
      "metadata": {
        "id": "CvuH297ZVEFH"
      },
      "source": [
        "##### Классический бутстрап"
      ]
    },
    {
      "cell_type": "markdown",
      "metadata": {
        "id": "JSC3sH0xVEFH"
      },
      "source": [
        "Необходимо знать n, то есть иметь конечную выборку"
      ]
    },
    {
      "cell_type": "code",
      "execution_count": 120,
      "metadata": {
        "id": "vEbbfxVwVEFI"
      },
      "outputs": [],
      "source": [
        "def multinomial_boot(main_sample, B):\n",
        "    result = []\n",
        "    for rep in range(B):\n",
        "        control_sample = resample(main_sample.loc[main_sample['group_label'] == 'control'])\n",
        "        treatment_sample = resample(main_sample.loc[main_sample['group_label'] == 'treatment'])\n",
        "        ctr_control = control_sample['clicks'].sum() / control_sample['views'].sum()\n",
        "        ctr_treatment = treatment_sample['clicks'].sum() / treatment_sample['views'].sum()\n",
        "        result.append(ctr_treatment - ctr_control)\n",
        "    result = pd.Series(result)\n",
        "    return result"
      ]
    },
    {
      "cell_type": "code",
      "execution_count": 121,
      "metadata": {
        "colab": {
          "base_uri": "https://localhost:8080/"
        },
        "id": "9CVO8z31VEFJ",
        "outputId": "9e4e007e-8581-4c55-b3a5-ea4ee58c3c78"
      },
      "outputs": [
        {
          "name": "stdout",
          "output_type": "stream",
          "text": [
            "20.9 s ± 137 ms per loop (mean ± std. dev. of 7 runs, 1 loop each)\n"
          ]
        }
      ],
      "source": [
        "%%timeit\n",
        "multinomial_boot(user_level_ctr, B)"
      ]
    },
    {
      "cell_type": "code",
      "execution_count": 110,
      "metadata": {
        "id": "qH3gPseAVEFK"
      },
      "outputs": [],
      "source": [
        "classic_boot_res = multinomial_boot(user_level_ctr, B)"
      ]
    },
    {
      "cell_type": "code",
      "execution_count": 111,
      "metadata": {
        "colab": {
          "base_uri": "https://localhost:8080/"
        },
        "id": "xrq_xQ-CVEFL",
        "outputId": "76bee157-a951-45ab-bc50-cbf83432bbe6"
      },
      "outputs": [
        {
          "name": "stdout",
          "output_type": "stream",
          "text": [
            "Исходно: 0.0012098\n",
            "Бутстрап: 0.0012178\n",
            "Доверительный инетрвал: (-0.0008913; 0.0033235)\n",
            "Стандартная ошибка: 0.0011000\n",
            "Смещение: 8.009872914361681e-06\n"
          ]
        }
      ],
      "source": [
        "print('Исходно: {:.7f}'.format(global_ctr_treatment - global_ctr_control))\n",
        "print('Бутстрап: {:.7f}'.format(classic_boot_res.mean()))\n",
        "quantile_l = np.quantile(classic_boot_res, alpha / 2)\n",
        "quantile_r = np.quantile(classic_boot_res, 1 - alpha / 2)\n",
        "print('Доверительный инетрвал: ({:.7f}; {:.7f})'.format(quantile_l, quantile_r))\n",
        "print('Стандартная ошибка: {:.7f}'.format(classic_boot_res.std()))\n",
        "bias = classic_boot_res.mean() - (global_ctr_treatment - global_ctr_control)\n",
        "print(f'Смещение: {bias}')"
      ]
    },
    {
      "cell_type": "code",
      "execution_count": 113,
      "metadata": {
        "colab": {
          "base_uri": "https://localhost:8080/",
          "height": 385
        },
        "id": "y7n4oI3MVEFL",
        "outputId": "216f0ffc-daf4-419f-a738-98f90f0d8292"
      },
      "outputs": [
        {
          "data": {
            "image/png": "[encoded data removed]",
            "text/plain": [
              "<Figure size 360x360 with 1 Axes>"
            ]
          },
          "metadata": {
            "needs_background": "light"
          },
          "output_type": "display_data"
        }
      ],
      "source": [
        "sns.displot(classic_boot_res, kde=True, color='blue')\n",
        "plt.title('CTR difference - Classic Bootstrap')\n",
        "plt.axvline(classic_boot_res.mean(), ls='--', lw=1.5, c='black')\n",
        "plt.axvline(quantile_l, ls='--', lw=1.3, c='black')\n",
        "plt.axvline(quantile_r, ls='--', lw=1.3, c='black')\n",
        "plt.show()"
      ]
    },
    {
      "cell_type": "markdown",
      "metadata": {
        "id": "Gg9iZc5YVEFM"
      },
      "source": [
        "##### Пуассоновский бутстрап"
      ]
    },
    {
      "cell_type": "markdown",
      "metadata": {
        "id": "izUBIbG0VEFN"
      },
      "source": [
        "Не зависит от n, данные можно обрабатывать потоково и остановить процедуру в любой момент"
      ]
    },
    {
      "cell_type": "code",
      "execution_count": 124,
      "metadata": {
        "id": "PJm7vZtJVEFN"
      },
      "outputs": [],
      "source": [
        "def poisson_boot(data_source, B):\n",
        "    control_result = np.array([[0, 0]] * B)  # значения будут обновляться при поступлении нового наблюдения\n",
        "    treatment_result = np.array([[0, 0]] * B)\n",
        "    for idx, row in data_source.iterrows():\n",
        "        weights = np.random.poisson(1, B)\n",
        "        if row['group_label'] == 'control':\n",
        "            control_result[:, 0] += row['clicks'] * weights  # numerator\n",
        "            control_result[:, 1] += row['views'] * weights  # denominator\n",
        "        else:\n",
        "            treatment_result[:, 0] += row['clicks'] * weights\n",
        "            treatment_result[:, 1] += row['views'] * weights\n",
        "    result = pd.Series(control_result[:, 0] / control_result[:, 1] - treatment_result[:, 0] / treatment_result[:, 1])\n",
        "    return result"
      ]
    },
    {
      "cell_type": "code",
      "execution_count": 125,
      "metadata": {
        "colab": {
          "base_uri": "https://localhost:8080/"
        },
        "id": "WQLXv9kGVEFO",
        "outputId": "9dd57298-1d17-4c0d-b28c-962525846892"
      },
      "outputs": [
        {
          "name": "stdout",
          "output_type": "stream",
          "text": [
            "12.4 s ± 983 ms per loop (mean ± std. dev. of 7 runs, 1 loop each)\n"
          ]
        }
      ],
      "source": [
        "%%timeit\n",
        "poisson_boot(user_level_ctr, B)"
      ]
    },
    {
      "cell_type": "code",
      "execution_count": 126,
      "metadata": {
        "id": "2QPaaML9VEFP"
      },
      "outputs": [],
      "source": [
        "poisson_boot_res = poisson_boot(user_level_ctr, B)"
      ]
    },
    {
      "cell_type": "code",
      "execution_count": 127,
      "metadata": {
        "colab": {
          "base_uri": "https://localhost:8080/"
        },
        "id": "1Gs-QddMVEFP",
        "outputId": "0906504e-fa6c-47d4-f718-9934db6871d7"
      },
      "outputs": [
        {
          "name": "stdout",
          "output_type": "stream",
          "text": [
            "Исходно: 0.0012098\n",
            "Бутстрап: -0.0012016\n",
            "Доверительный инетрвал: (-0.0033993; 0.0010038)\n",
            "Стандартная ошибка: 0.0011168\n",
            "Смещение: -0.00241142905758696\n"
          ]
        }
      ],
      "source": [
        "print('Исходно: {:.7f}'.format(global_ctr_treatment - global_ctr_control))\n",
        "print('Бутстрап: {:.7f}'.format(poisson_boot_res.mean()))\n",
        "quantile_l = np.quantile(poisson_boot_res, alpha / 2)\n",
        "quantile_r = np.quantile(poisson_boot_res, 1 - alpha / 2)\n",
        "print('Доверительный инетрвал: ({:.7f}; {:.7f})'.format(quantile_l, quantile_r))\n",
        "print('Стандартная ошибка: {:.7f}'.format(poisson_boot_res.std()))\n",
        "bias = poisson_boot_res.mean() - (global_ctr_treatment - global_ctr_control)\n",
        "print(f'Смещение: {bias}')"
      ]
    },
    {
      "cell_type": "code",
      "execution_count": 129,
      "metadata": {
        "colab": {
          "base_uri": "https://localhost:8080/",
          "height": 385
        },
        "id": "in0dvLY4VEFQ",
        "outputId": "7318b76f-2565-448a-eeff-f16f0d690709"
      },
      "outputs": [
        {
          "data": {
            "image/png": "[encoded data removed]",
            "text/plain": [
              "<Figure size 360x360 with 1 Axes>"
            ]
          },
          "metadata": {
            "needs_background": "light"
          },
          "output_type": "display_data"
        }
      ],
      "source": [
        "sns.displot(poisson_boot_res, kde=True, color='blue')\n",
        "plt.title('CTR difference - Poisson Bootstrap')\n",
        "plt.axvline(poisson_boot_res.mean(), ls='--', lw=1.5, c='black')\n",
        "plt.axvline(quantile_l, ls='--', lw=1.3, c='black')\n",
        "plt.axvline(quantile_r, ls='--', lw=1.3, c='black')\n",
        "plt.show()"
      ]
    },
    {
      "cell_type": "markdown",
      "metadata": {
        "id": "VekcRSXpCZbL"
      },
      "source": [
        "Доверительный интервал пересекает значение 0, следовательно, различие не является статистически значимым. Необходимо и дальше улучшать рекламное объявление для повышения конверсии."
      ]
    }
  ],
  "metadata": {
    "colab": {
      "collapsed_sections": [],
      "provenance": []
    },
    "kernelspec": {
      "display_name": "Python 3.9.7 64-bit",
      "language": "python",
      "name": "python3"
    },
    "language_info": {
      "codemirror_mode": {
        "name": "ipython",
        "version": 3
      },
      "file_extension": ".py",
      "mimetype": "text/x-python",
      "name": "python",
      "nbconvert_exporter": "python",
      "pygments_lexer": "ipython3",
      "version": "3.9.7"
    },
    "orig_nbformat": 4,
    "vscode": {
      "interpreter": {
        "hash": "5312a05d4c1062e7e99dc4a1327331a73c17135ec320657c0e8e8843948bfa85"
      }
    }
  },
  "nbformat": 4,
  "nbformat_minor": 0
}
