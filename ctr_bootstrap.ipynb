{
 "cells": [
  {
   "cell_type": "markdown",
   "metadata": {},
   "source": [
    "# CTR bootstrap"
   ]
  },
  {
   "cell_type": "markdown",
   "metadata": {},
   "source": [
    "Цель: оценить CTR (click-through rate) и получить доверительный интервал для данной оценки."
   ]
  },
  {
   "cell_type": "markdown",
   "metadata": {},
   "source": [
    "## EDA"
   ]
  },
  {
   "cell_type": "code",
   "execution_count": 1,
   "metadata": {},
   "outputs": [],
   "source": [
    "import pandas as pd\n",
    "import datetime as dt"
   ]
  },
  {
   "cell_type": "markdown",
   "metadata": {},
   "source": [
    "Источник данных: [Kaggle](https://www.kaggle.com/code/kerneler/starter-context-ad-clicks-dataset-7dfe4924-2/data)"
   ]
  },
  {
   "cell_type": "markdown",
   "metadata": {},
   "source": [
    "##### Данные по кликам на рекламу на сайтах партнеров рекламного агентства"
   ]
  },
  {
   "cell_type": "code",
   "execution_count": 2,
   "metadata": {},
   "outputs": [
    {
     "name": "stdout",
     "output_type": "stream",
     "text": [
      "<class 'pandas.core.frame.DataFrame'>\n",
      "RangeIndex: 237609 entries, 0 to 237608\n",
      "Data columns (total 7 columns):\n",
      " #   Column           Non-Null Count   Dtype         \n",
      "---  ------           --------------   -----         \n",
      " 0   impression_id    237609 non-null  object        \n",
      " 1   impression_time  237609 non-null  datetime64[ns]\n",
      " 2   user_id          237609 non-null  int64         \n",
      " 3   app_code         237609 non-null  int64         \n",
      " 4   os_version       237609 non-null  object        \n",
      " 5   is_4G            237609 non-null  int64         \n",
      " 6   is_click         237609 non-null  int64         \n",
      "dtypes: datetime64[ns](1), int64(4), object(2)\n",
      "memory usage: 12.7+ MB\n"
     ]
    }
   ],
   "source": [
    "impressions = pd.read_csv('./train.csv')\n",
    "impressions['impression_time'] = pd.to_datetime(impressions['impression_time'])\n",
    "impressions.info()"
   ]
  },
  {
   "cell_type": "code",
   "execution_count": 3,
   "metadata": {},
   "outputs": [
    {
     "data": {
      "text/html": [
       "<div>\n",
       "<style scoped>\n",
       "    .dataframe tbody tr th:only-of-type {\n",
       "        vertical-align: middle;\n",
       "    }\n",
       "\n",
       "    .dataframe tbody tr th {\n",
       "        vertical-align: top;\n",
       "    }\n",
       "\n",
       "    .dataframe thead th {\n",
       "        text-align: right;\n",
       "    }\n",
       "</style>\n",
       "<table border=\"1\" class=\"dataframe\">\n",
       "  <thead>\n",
       "    <tr style=\"text-align: right;\">\n",
       "      <th></th>\n",
       "      <th>impression_id</th>\n",
       "      <th>impression_time</th>\n",
       "      <th>user_id</th>\n",
       "      <th>app_code</th>\n",
       "      <th>os_version</th>\n",
       "      <th>is_4G</th>\n",
       "      <th>is_click</th>\n",
       "    </tr>\n",
       "  </thead>\n",
       "  <tbody>\n",
       "    <tr>\n",
       "      <th>0</th>\n",
       "      <td>c4ca4238a0b923820dcc509a6f75849b</td>\n",
       "      <td>2018-11-15 00:00:00</td>\n",
       "      <td>87862</td>\n",
       "      <td>422</td>\n",
       "      <td>old</td>\n",
       "      <td>0</td>\n",
       "      <td>0</td>\n",
       "    </tr>\n",
       "    <tr>\n",
       "      <th>1</th>\n",
       "      <td>45c48cce2e2d7fbdea1afc51c7c6ad26</td>\n",
       "      <td>2018-11-15 00:01:00</td>\n",
       "      <td>63410</td>\n",
       "      <td>467</td>\n",
       "      <td>latest</td>\n",
       "      <td>1</td>\n",
       "      <td>1</td>\n",
       "    </tr>\n",
       "    <tr>\n",
       "      <th>2</th>\n",
       "      <td>70efdf2ec9b086079795c442636b55fb</td>\n",
       "      <td>2018-11-15 00:02:00</td>\n",
       "      <td>71748</td>\n",
       "      <td>259</td>\n",
       "      <td>intermediate</td>\n",
       "      <td>1</td>\n",
       "      <td>0</td>\n",
       "    </tr>\n",
       "    <tr>\n",
       "      <th>3</th>\n",
       "      <td>8e296a067a37563370ded05f5a3bf3ec</td>\n",
       "      <td>2018-11-15 00:02:00</td>\n",
       "      <td>69209</td>\n",
       "      <td>244</td>\n",
       "      <td>latest</td>\n",
       "      <td>1</td>\n",
       "      <td>0</td>\n",
       "    </tr>\n",
       "    <tr>\n",
       "      <th>4</th>\n",
       "      <td>182be0c5cdcd5072bb1864cdee4d3d6e</td>\n",
       "      <td>2018-11-15 00:02:00</td>\n",
       "      <td>62873</td>\n",
       "      <td>473</td>\n",
       "      <td>latest</td>\n",
       "      <td>0</td>\n",
       "      <td>0</td>\n",
       "    </tr>\n",
       "  </tbody>\n",
       "</table>\n",
       "</div>"
      ],
      "text/plain": [
       "                      impression_id     impression_time  user_id  app_code  \\\n",
       "0  c4ca4238a0b923820dcc509a6f75849b 2018-11-15 00:00:00    87862       422   \n",
       "1  45c48cce2e2d7fbdea1afc51c7c6ad26 2018-11-15 00:01:00    63410       467   \n",
       "2  70efdf2ec9b086079795c442636b55fb 2018-11-15 00:02:00    71748       259   \n",
       "3  8e296a067a37563370ded05f5a3bf3ec 2018-11-15 00:02:00    69209       244   \n",
       "4  182be0c5cdcd5072bb1864cdee4d3d6e 2018-11-15 00:02:00    62873       473   \n",
       "\n",
       "     os_version  is_4G  is_click  \n",
       "0           old      0         0  \n",
       "1        latest      1         1  \n",
       "2  intermediate      1         0  \n",
       "3        latest      1         0  \n",
       "4        latest      0         0  "
      ]
     },
     "execution_count": 3,
     "metadata": {},
     "output_type": "execute_result"
    }
   ],
   "source": [
    "impressions.head()"
   ]
  },
  {
   "cell_type": "code",
   "execution_count": 4,
   "metadata": {},
   "outputs": [
    {
     "data": {
      "text/plain": [
       "impression_id      237609\n",
       "impression_time     36461\n",
       "user_id             74723\n",
       "app_code              490\n",
       "os_version              3\n",
       "is_4G                   2\n",
       "is_click                2\n",
       "dtype: int64"
      ]
     },
     "execution_count": 4,
     "metadata": {},
     "output_type": "execute_result"
    }
   ],
   "source": [
    "impressions.nunique()"
   ]
  },
  {
   "cell_type": "markdown",
   "metadata": {},
   "source": [
    "impression_id - id показа рекламы  \n",
    "impression_time - время показа рекламы  \n",
    "user_id - id пользователя  \n",
    "is_click - нажатие на рекламу"
   ]
  },
  {
   "cell_type": "code",
   "execution_count": 5,
   "metadata": {},
   "outputs": [
    {
     "name": "stdout",
     "output_type": "stream",
     "text": [
      "Временной период: 2018-11-15 00:00:00 - 2018-12-13 07:43:00\n"
     ]
    }
   ],
   "source": [
    "print(f'Временной период: {impressions.impression_time.min()} - {impressions.impression_time.max()}')"
   ]
  },
  {
   "cell_type": "markdown",
   "metadata": {},
   "source": [
    "## Предварительная оценка CTR"
   ]
  },
  {
   "cell_type": "markdown",
   "metadata": {},
   "source": [
    "Было выяснено, что для получения состоятельно результата, необходимо собрать данные, которые мы можем получить примерно за месяц. Предположим, реклама висит уже неделю. За это время были собраны данные по кликам, но для проведения теста их пока не достаточно. Однако требуется провести тест уже сейчас"
   ]
  },
  {
   "cell_type": "code",
   "execution_count": 6,
   "metadata": {},
   "outputs": [],
   "source": [
    "start_date = dt.datetime(2018, 11, 15)\n",
    "end_date = dt.datetime(2018, 11, 21)\n",
    "dt_mask = (impressions['impression_time'] > start_date) & (impressions['impression_time'] < end_date)  # недельные данные"
   ]
  },
  {
   "cell_type": "code",
   "execution_count": 7,
   "metadata": {},
   "outputs": [
    {
     "name": "stdout",
     "output_type": "stream",
     "text": [
      "<class 'pandas.core.frame.DataFrame'>\n",
      "RangeIndex: 237609 entries, 0 to 237608\n",
      "Data columns (total 4 columns):\n",
      " #   Column           Non-Null Count   Dtype         \n",
      "---  ------           --------------   -----         \n",
      " 0   impression_id    237609 non-null  object        \n",
      " 1   impression_time  237609 non-null  datetime64[ns]\n",
      " 2   user_id          237609 non-null  int64         \n",
      " 3   is_click         237609 non-null  int64         \n",
      "dtypes: datetime64[ns](1), int64(2), object(1)\n",
      "memory usage: 7.3+ MB\n"
     ]
    }
   ],
   "source": [
    "click_data = impressions[['impression_id', 'impression_time', 'user_id', 'is_click']]\n",
    "click_data.info()"
   ]
  },
  {
   "cell_type": "code",
   "execution_count": 8,
   "metadata": {},
   "outputs": [
    {
     "data": {
      "text/plain": [
       "impression_id    237609\n",
       "user_id           74723\n",
       "dtype: int64"
      ]
     },
     "execution_count": 8,
     "metadata": {},
     "output_type": "execute_result"
    }
   ],
   "source": [
    "click_data[['impression_id', 'user_id']].nunique()"
   ]
  },
  {
   "cell_type": "code",
   "execution_count": 9,
   "metadata": {},
   "outputs": [],
   "source": [
    "ctr_mean = click_data['is_click'].mean()"
   ]
  },
  {
   "cell_type": "code",
   "execution_count": 10,
   "metadata": {},
   "outputs": [
    {
     "name": "stdout",
     "output_type": "stream",
     "text": [
      "CTR: 4.57%\n"
     ]
    }
   ],
   "source": [
    "print('CTR: {:.2%}'.format(ctr_mean))"
   ]
  },
  {
   "cell_type": "markdown",
   "metadata": {},
   "source": [
    "## Сравнение быстродействия классического и Пуассоновоского бутстрапа"
   ]
  },
  {
   "cell_type": "code",
   "execution_count": 11,
   "metadata": {},
   "outputs": [],
   "source": [
    "import numpy as np\n",
    "import timeit"
   ]
  },
  {
   "cell_type": "code",
   "execution_count": 12,
   "metadata": {},
   "outputs": [],
   "source": [
    "def poisson_bootstrap(B):\n",
    "    # работает при n >= 100, так как сумма элементов вектора не фиксирована и не равна n (доп. источник вариации)\n",
    "    sampled = np.random.poisson(1, B)\n",
    "\n",
    "def multinomial_bootstrap(n):\n",
    "    # сумма элементов вектора фиксирована и равна n\n",
    "    sampled = np.random.multinomial(n, [1. / n] * n)"
   ]
  },
  {
   "cell_type": "code",
   "execution_count": 13,
   "metadata": {},
   "outputs": [
    {
     "name": "stdout",
     "output_type": "stream",
     "text": [
      "237609 1000\n"
     ]
    }
   ],
   "source": [
    "n = len(click_data)\n",
    "B = 1000\n",
    "print(n, B)"
   ]
  },
  {
   "cell_type": "code",
   "execution_count": 14,
   "metadata": {},
   "outputs": [
    {
     "data": {
      "text/plain": [
       "237609.0"
      ]
     },
     "execution_count": 14,
     "metadata": {},
     "output_type": "execute_result"
    }
   ],
   "source": [
    "# средняя сумма k в одной подвыборке для классического бутстрапа совпадает с n\n",
    "multinomial_samples = np.array([np.random.multinomial(n, [1. / n] * n) for i in range(B)])\n",
    "np.mean([np.sum(multinomial_samples[i]) for i in range(B)])"
   ]
  },
  {
   "cell_type": "code",
   "execution_count": 15,
   "metadata": {},
   "outputs": [
    {
     "data": {
      "text/plain": [
       "237634.774"
      ]
     },
     "execution_count": 15,
     "metadata": {},
     "output_type": "execute_result"
    }
   ],
   "source": [
    "# средняя сумма k в одной подвыборке для Пуассоновского бутстрапа аппроксимирует n\n",
    "poisson_samples = np.array([np.random.poisson(1, B) for i in range(n)]).T\n",
    "np.mean([np.sum(poisson_samples[i]) for i in range(B)])"
   ]
  },
  {
   "cell_type": "markdown",
   "metadata": {},
   "source": [
    "При больших n этим можно пренебречь."
   ]
  },
  {
   "cell_type": "code",
   "execution_count": 16,
   "metadata": {},
   "outputs": [
    {
     "name": "stdout",
     "output_type": "stream",
     "text": [
      "18.7 s ± 655 ms per loop (mean ± std. dev. of 7 runs, 1 loop each)\n"
     ]
    }
   ],
   "source": [
    "%%timeit\n",
    "# генерируем вектор длины B из пуассоновского распределения n раз (независимо один раз для каждого наблюдения)\n",
    "list(map(poisson_bootstrap, [B for i in range(n)]))"
   ]
  },
  {
   "cell_type": "code",
   "execution_count": 17,
   "metadata": {},
   "outputs": [
    {
     "name": "stdout",
     "output_type": "stream",
     "text": [
      "44.6 s ± 920 ms per loop (mean ± std. dev. of 7 runs, 1 loop each)\n"
     ]
    }
   ],
   "source": [
    "%%timeit\n",
    "# генерируем вектор длины n из мультиномиального распределения B раз\n",
    "list(map(multinomial_bootstrap, [n for i in range(B)]))"
   ]
  },
  {
   "cell_type": "markdown",
   "metadata": {},
   "source": [
    "\\* Ускоренный станадартный бутстрап"
   ]
  },
  {
   "cell_type": "code",
   "execution_count": 18,
   "metadata": {},
   "outputs": [],
   "source": [
    "from numba import njit"
   ]
  },
  {
   "cell_type": "code",
   "execution_count": 19,
   "metadata": {},
   "outputs": [],
   "source": [
    "fast_multinomial_bootstrap = njit(multinomial_bootstrap)"
   ]
  },
  {
   "cell_type": "code",
   "execution_count": 20,
   "metadata": {},
   "outputs": [
    {
     "name": "stdout",
     "output_type": "stream",
     "text": [
      "34.2 s ± 944 ms per loop (mean ± std. dev. of 7 runs, 1 loop each)\n"
     ]
    }
   ],
   "source": [
    "%%timeit\n",
    "list(map(fast_multinomial_bootstrap, [n for i in range(B)]))"
   ]
  },
  {
   "cell_type": "markdown",
   "metadata": {},
   "source": [
    "Вывод: Пуассоновский бутстрап работает быстрее. Классический бутстрап запускать довольно дорого по времени и по памяти, а если используются параллельные вычисления, то необходимо также контролировать сумму весов наблюдений (= n), генерируемых из биномиального распределения, для каждой бутстраповской выборки. Пуассоновская аппроксимация дает свободу от: 1) знания n, которое требуется для генерации весов из биномиального распределения; 2) проблем, которые создаются параллельными вычислениями, для классического бутстрапа."
   ]
  },
  {
   "cell_type": "markdown",
   "metadata": {},
   "source": [
    "## Сравнение на примере оценки доверительного интервала для CTR"
   ]
  },
  {
   "cell_type": "code",
   "execution_count": 21,
   "metadata": {},
   "outputs": [],
   "source": [
    "from sklearn.utils import resample\n",
    "import matplotlib.pyplot as plt\n",
    "import seaborn as sns\n",
    "%matplotlib inline"
   ]
  },
  {
   "cell_type": "code",
   "execution_count": 22,
   "metadata": {},
   "outputs": [],
   "source": [
    "alpha = 0.05"
   ]
  },
  {
   "cell_type": "markdown",
   "metadata": {},
   "source": [
    "##### Классический бутстрап"
   ]
  },
  {
   "cell_type": "markdown",
   "metadata": {},
   "source": [
    "Необходимо знать n, то есть иметь конечную выборку"
   ]
  },
  {
   "cell_type": "code",
   "execution_count": 40,
   "metadata": {},
   "outputs": [],
   "source": [
    "def multinomial_boot(main_sample, B):\n",
    "    result = []\n",
    "    for rep in range(B):\n",
    "        sample = resample(main_sample)\n",
    "        result.append(np.mean(sample))\n",
    "    result = pd.Series(result)\n",
    "    return result"
   ]
  },
  {
   "cell_type": "code",
   "execution_count": 41,
   "metadata": {},
   "outputs": [
    {
     "name": "stdout",
     "output_type": "stream",
     "text": [
      "1min 44s ± 2.92 s per loop (mean ± std. dev. of 7 runs, 1 loop each)\n"
     ]
    }
   ],
   "source": [
    "%%timeit\n",
    "multinomial_boot(click_data['is_click'].values.tolist(), B)"
   ]
  },
  {
   "cell_type": "code",
   "execution_count": 42,
   "metadata": {},
   "outputs": [],
   "source": [
    "classic_boot_res = multinomial_boot(click_data['is_click'].values.tolist(), B)"
   ]
  },
  {
   "cell_type": "code",
   "execution_count": 43,
   "metadata": {},
   "outputs": [
    {
     "name": "stdout",
     "output_type": "stream",
     "text": [
      "Исходно: 0.0457138\n",
      "Бутстрап: 0.0457282\n",
      "Доверительный инетрвал: (0.0449435; 0.0465976)\n",
      "Стандартная ошибка: 0.0004258\n",
      "Смещение: 1.442706294794982e-05\n"
     ]
    }
   ],
   "source": [
    "print('Исходно: {:.7f}'.format(ctr_mean))\n",
    "print('Бутстрап: {:.7f}'.format(classic_boot_res.mean()))\n",
    "quantile_l = np.quantile(classic_boot_res, alpha / 2)\n",
    "quantile_r = np.quantile(classic_boot_res, 1 - alpha / 2)\n",
    "print('Доверительный инетрвал: ({:.7f}; {:.7f})'.format(quantile_l, quantile_r))\n",
    "print('Стандартная ошибка: {:.7f}'.format(classic_boot_res.std()))\n",
    "bias = classic_boot_res.mean() - ctr_mean\n",
    "print(f'Смещение: {bias}')"
   ]
  },
  {
   "cell_type": "code",
   "execution_count": 44,
   "metadata": {},
   "outputs": [
    {
     "data": {
      "image/png": "[encoded data removed]",
      "text/plain": [
       "<Figure size 360x360 with 1 Axes>"
      ]
     },
     "metadata": {
      "needs_background": "light"
     },
     "output_type": "display_data"
    }
   ],
   "source": [
    "sns.displot(classic_boot_res, kde=True, color='blue')\n",
    "plt.title('CTR - Classic Bootstrap')\n",
    "plt.axvline(classic_boot_res.mean(), ls='--', lw=1.5, c='black')\n",
    "plt.axvline(quantile_l, ls='--', lw=1.3, c='black')\n",
    "plt.axvline(quantile_r, ls='--', lw=1.3, c='black')\n",
    "plt.show()"
   ]
  },
  {
   "cell_type": "markdown",
   "metadata": {},
   "source": [
    "##### Пуассоновский бутстрап"
   ]
  },
  {
   "cell_type": "markdown",
   "metadata": {},
   "source": [
    "Не зависит от n, данные можно обрабатывать потоково и остановить процедуру в любой момент"
   ]
  },
  {
   "cell_type": "code",
   "execution_count": 31,
   "metadata": {},
   "outputs": [],
   "source": [
    "def poisson_boot(data_source, B):\n",
    "    result = np.array([[0, 0]] * B)  # значения будут обновляться при поступлении нового наблюдения\n",
    "    for obs in data_source:\n",
    "        weights = np.random.poisson(1, B)\n",
    "        result[:, 0] += obs * weights  # numerator\n",
    "        result[:, 1] += weights  # denominator\n",
    "    result = pd.Series(result[:, 0] / result[:, 1])\n",
    "    return result"
   ]
  },
  {
   "cell_type": "code",
   "execution_count": 32,
   "metadata": {},
   "outputs": [
    {
     "name": "stdout",
     "output_type": "stream",
     "text": [
      "22.1 s ± 906 ms per loop (mean ± std. dev. of 7 runs, 1 loop each)\n"
     ]
    }
   ],
   "source": [
    "%%timeit\n",
    "poisson_boot(click_data['is_click'].values.tolist(), B)"
   ]
  },
  {
   "cell_type": "code",
   "execution_count": 33,
   "metadata": {},
   "outputs": [],
   "source": [
    "poisson_boot_res = poisson_boot(click_data['is_click'].values.tolist(), B)"
   ]
  },
  {
   "cell_type": "code",
   "execution_count": 34,
   "metadata": {},
   "outputs": [
    {
     "name": "stdout",
     "output_type": "stream",
     "text": [
      "Исходно: 0.0457138\n",
      "Бутстрап: 0.0457012\n",
      "Доверительный инетрвал: (0.0448172; 0.0465297)\n",
      "Стандартная ошибка: 0.0004384\n",
      "Смещение: -1.2570760763323807e-05\n"
     ]
    }
   ],
   "source": [
    "print('Исходно: {:.7f}'.format(ctr_mean))\n",
    "print('Бутстрап: {:.7f}'.format(poisson_boot_res.mean()))\n",
    "quantile_l = np.quantile(poisson_boot_res, alpha / 2)\n",
    "quantile_r = np.quantile(poisson_boot_res, 1 - alpha / 2)\n",
    "print('Доверительный инетрвал: ({:.7f}; {:.7f})'.format(quantile_l, quantile_r))\n",
    "print('Стандартная ошибка: {:.7f}'.format(poisson_boot_res.std()))\n",
    "bias = poisson_boot_res.mean() - ctr_mean\n",
    "print(f'Смещение: {bias}')"
   ]
  },
  {
   "cell_type": "code",
   "execution_count": 35,
   "metadata": {},
   "outputs": [
    {
     "data": {
      "image/png": "[encoded data removed]",
      "text/plain": [
       "<Figure size 360x360 with 1 Axes>"
      ]
     },
     "metadata": {
      "needs_background": "light"
     },
     "output_type": "display_data"
    }
   ],
   "source": [
    "sns.displot(poisson_boot_res, kde=True, color='blue')\n",
    "plt.title('CTR - Poisson Bootstrap')\n",
    "plt.axvline(poisson_boot_res.mean(), ls='--', lw=1.5, c='black')\n",
    "plt.axvline(quantile_l, ls='--', lw=1.3, c='black')\n",
    "plt.axvline(quantile_r, ls='--', lw=1.3, c='black')\n",
    "plt.show()"
   ]
  }
 ],
 "metadata": {
  "kernelspec": {
   "display_name": "Python 3.9.7 64-bit",
   "language": "python",
   "name": "python3"
  },
  "language_info": {
   "codemirror_mode": {
    "name": "ipython",
    "version": 3
   },
   "file_extension": ".py",
   "mimetype": "text/x-python",
   "name": "python",
   "nbconvert_exporter": "python",
   "pygments_lexer": "ipython3",
   "version": "3.9.7"
  },
  "orig_nbformat": 4,
  "vscode": {
   "interpreter": {
    "hash": "5312a05d4c1062e7e99dc4a1327331a73c17135ec320657c0e8e8843948bfa85"
   }
  }
 },
 "nbformat": 4,
 "nbformat_minor": 2
}
